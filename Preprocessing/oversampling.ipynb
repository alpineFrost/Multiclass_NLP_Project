{
 "cells": [
  {
   "cell_type": "code",
   "execution_count": 1,
   "id": "23a2978e",
   "metadata": {
    "_cell_guid": "b1076dfc-b9ad-4769-8c92-a6c4dae69d19",
    "_uuid": "8f2839f25d086af736a60e9eeb907d3b93b6e0e5",
    "execution": {
     "iopub.execute_input": "2021-12-11T07:22:28.003898Z",
     "iopub.status.busy": "2021-12-11T07:22:28.002744Z",
     "iopub.status.idle": "2021-12-11T07:22:28.030836Z",
     "shell.execute_reply": "2021-12-11T07:22:28.031648Z",
     "shell.execute_reply.started": "2021-12-11T07:12:25.344868Z"
    },
    "papermill": {
     "duration": 0.041764,
     "end_time": "2021-12-11T07:22:28.032135",
     "exception": false,
     "start_time": "2021-12-11T07:22:27.990371",
     "status": "completed"
    },
    "tags": []
   },
   "outputs": [
    {
     "name": "stdout",
     "output_type": "stream",
     "text": [
      "/kaggle/input/traintestcsr-codeproject/train.npz\n",
      "/kaggle/input/traintestcsr-codeproject/test.npz\n",
      "/kaggle/input/data-for-codeproject-contest/our_contest_train_2.csv\n",
      "/kaggle/input/data-for-codeproject-contest/our_contest_sample_solution_2.csv\n",
      "/kaggle/input/data-for-codeproject-contest/our_contest_test.csv\n"
     ]
    }
   ],
   "source": [
    "# This Python 3 environment comes with many helpful analytics libraries installed\n",
    "# It is defined by the kaggle/python Docker image: https://github.com/kaggle/docker-python\n",
    "# For example, here's several helpful packages to load\n",
    "\n",
    "import numpy as np # linear algebra\n",
    "import pandas as pd # data processing, CSV file I/O (e.g. pd.read_csv)\n",
    "\n",
    "# Input data files are available in the read-only \"../input/\" directory\n",
    "# For example, running this (by clicking run or pressing Shift+Enter) will list all files under the input directory\n",
    "\n",
    "import os\n",
    "for dirname, _, filenames in os.walk('/kaggle/input'):\n",
    "    for filename in filenames:\n",
    "        print(os.path.join(dirname, filename))\n",
    "\n",
    "# You can write up to 20GB to the current directory (/kaggle/working/) that gets preserved as output when you create a version using \"Save & Run All\" \n",
    "# You can also write temporary files to /kaggle/temp/, but they won't be saved outside of the current session"
   ]
  },
  {
   "cell_type": "code",
   "execution_count": 2,
   "id": "9ccd71b5",
   "metadata": {
    "execution": {
     "iopub.execute_input": "2021-12-11T07:22:28.056385Z",
     "iopub.status.busy": "2021-12-11T07:22:28.053906Z",
     "iopub.status.idle": "2021-12-11T07:22:29.700134Z",
     "shell.execute_reply": "2021-12-11T07:22:29.699569Z",
     "shell.execute_reply.started": "2021-12-11T07:12:27.536478Z"
    },
    "papermill": {
     "duration": 1.657668,
     "end_time": "2021-12-11T07:22:29.700293",
     "exception": false,
     "start_time": "2021-12-11T07:22:28.042625",
     "status": "completed"
    },
    "tags": []
   },
   "outputs": [],
   "source": [
    "# example of combining random oversampling and undersampling for imbalanced data\n",
    "from collections import Counter\n",
    "from sklearn.datasets import make_classification\n",
    "from imblearn.over_sampling import RandomOverSampler\n",
    "from imblearn.under_sampling import RandomUnderSampler\n",
    "from scipy import sparse"
   ]
  },
  {
   "cell_type": "code",
   "execution_count": 3,
   "id": "cfb8958c",
   "metadata": {
    "execution": {
     "iopub.execute_input": "2021-12-11T07:22:29.722438Z",
     "iopub.status.busy": "2021-12-11T07:22:29.718938Z",
     "iopub.status.idle": "2021-12-11T07:23:29.740952Z",
     "shell.execute_reply": "2021-12-11T07:23:29.739838Z",
     "shell.execute_reply.started": "2021-12-11T07:12:31.534056Z"
    },
    "papermill": {
     "duration": 60.032887,
     "end_time": "2021-12-11T07:23:29.741391",
     "exception": false,
     "start_time": "2021-12-11T07:22:29.708504",
     "status": "completed"
    },
    "tags": []
   },
   "outputs": [],
   "source": [
    "TRAIN_NPZ = \"/kaggle/input/traintestcsr-codeproject/train.npz\"\n",
    "complete_csr = sparse.load_npz(TRAIN_NPZ)\n",
    "\n",
    "TRAIN_CSV = \"/kaggle/input/data-for-codeproject-contest/our_contest_train_2.csv\"\n",
    "targets = pd.read_csv(TRAIN_CSV)['Target']"
   ]
  },
  {
   "cell_type": "code",
   "execution_count": 4,
   "id": "430f4624",
   "metadata": {
    "execution": {
     "iopub.execute_input": "2021-12-11T07:23:29.771232Z",
     "iopub.status.busy": "2021-12-11T07:23:29.770347Z",
     "iopub.status.idle": "2021-12-11T07:23:40.520387Z",
     "shell.execute_reply": "2021-12-11T07:23:40.519749Z",
     "shell.execute_reply.started": "2021-12-11T07:17:24.414234Z"
    },
    "papermill": {
     "duration": 10.767711,
     "end_time": "2021-12-11T07:23:40.520567",
     "exception": false,
     "start_time": "2021-12-11T07:23:29.752856",
     "status": "completed"
    },
    "tags": []
   },
   "outputs": [
    {
     "name": "stderr",
     "output_type": "stream",
     "text": [
      "/opt/conda/lib/python3.7/site-packages/imblearn/utils/_validation.py:300: UserWarning: After over-sampling, the number of samples (1651559) in class 0 will be larger than the number of samples in the majority class (class #0 -> 1650196)\n",
      "  f\"After over-sampling, the number of samples ({n_samples})\"\n"
     ]
    },
    {
     "name": "stdout",
     "output_type": "stream",
     "text": [
      "Counter({0: 1651559, 1: 421316, 3: 337053, 2: 337053, 4: 84263})\n"
     ]
    }
   ],
   "source": [
    "# define oversampling strategy\n",
    "over = RandomOverSampler(sampling_strategy={0: 1651559, 1: 421316, 2: 337053, 3: 337053, 4: 84263})\n",
    "# fit and apply the transform\n",
    "complete_csr, targets = over.fit_resample(complete_csr, targets)\n",
    "# summarize class distribution\n",
    "print(Counter(targets))\n",
    "# define undersampling strategy"
   ]
  },
  {
   "cell_type": "code",
   "execution_count": 5,
   "id": "b264ec3b",
   "metadata": {
    "execution": {
     "iopub.execute_input": "2021-12-11T07:23:40.548338Z",
     "iopub.status.busy": "2021-12-11T07:23:40.546086Z",
     "iopub.status.idle": "2021-12-11T07:23:43.216209Z",
     "shell.execute_reply": "2021-12-11T07:23:43.215500Z",
     "shell.execute_reply.started": "2021-12-11T07:17:47.501794Z"
    },
    "papermill": {
     "duration": 2.68671,
     "end_time": "2021-12-11T07:23:43.216373",
     "exception": false,
     "start_time": "2021-12-11T07:23:40.529663",
     "status": "completed"
    },
    "tags": []
   },
   "outputs": [
    {
     "name": "stdout",
     "output_type": "stream",
     "text": [
      "Counter({0: 505579, 1: 421316, 2: 337053, 3: 337053, 4: 84263})\n"
     ]
    }
   ],
   "source": [
    "under = RandomUnderSampler(sampling_strategy={0: 505579, 1: 421316, 2: 337053, 3: 337053, 4: 84263})\n",
    "# fit and apply the transform\n",
    "complete_csr, targets = under.fit_resample(complete_csr, targets)\n",
    "# summarize class distribution\n",
    "print(Counter(targets))"
   ]
  },
  {
   "cell_type": "code",
   "execution_count": 6,
   "id": "b0ccb95c",
   "metadata": {
    "execution": {
     "iopub.execute_input": "2021-12-11T07:23:43.246325Z",
     "iopub.status.busy": "2021-12-11T07:23:43.245241Z",
     "iopub.status.idle": "2021-12-11T07:23:43.250590Z",
     "shell.execute_reply": "2021-12-11T07:23:43.251311Z",
     "shell.execute_reply.started": "2021-12-11T07:19:30.098633Z"
    },
    "papermill": {
     "duration": 0.023947,
     "end_time": "2021-12-11T07:23:43.251568",
     "exception": false,
     "start_time": "2021-12-11T07:23:43.227621",
     "status": "completed"
    },
    "tags": []
   },
   "outputs": [],
   "source": [
    "target_df = pd.DataFrame(targets)"
   ]
  },
  {
   "cell_type": "code",
   "execution_count": 7,
   "id": "51f0286e",
   "metadata": {
    "execution": {
     "iopub.execute_input": "2021-12-11T07:23:43.280255Z",
     "iopub.status.busy": "2021-12-11T07:23:43.278893Z",
     "iopub.status.idle": "2021-12-11T07:24:29.166721Z",
     "shell.execute_reply": "2021-12-11T07:24:29.166003Z",
     "shell.execute_reply.started": "2021-12-11T07:20:48.653780Z"
    },
    "papermill": {
     "duration": 45.904332,
     "end_time": "2021-12-11T07:24:29.166873",
     "exception": false,
     "start_time": "2021-12-11T07:23:43.262541",
     "status": "completed"
    },
    "tags": []
   },
   "outputs": [],
   "source": [
    "target_df.to_csv('target.csv')\n",
    "sparse.save_npz(\"train_sampled.npz\", complete_csr)"
   ]
  }
 ],
 "metadata": {
  "kernelspec": {
   "display_name": "Python 3",
   "language": "python",
   "name": "python3"
  },
  "language_info": {
   "codemirror_mode": {
    "name": "ipython",
    "version": 3
   },
   "file_extension": ".py",
   "mimetype": "text/x-python",
   "name": "python",
   "nbconvert_exporter": "python",
   "pygments_lexer": "ipython3",
   "version": "3.7.12"
  },
  "papermill": {
   "default_parameters": {},
   "duration": 133.018229,
   "end_time": "2021-12-11T07:24:30.389933",
   "environment_variables": {},
   "exception": null,
   "input_path": "__notebook__.ipynb",
   "output_path": "__notebook__.ipynb",
   "parameters": {},
   "start_time": "2021-12-11T07:22:17.371704",
   "version": "2.3.3"
  }
 },
 "nbformat": 4,
 "nbformat_minor": 5
}
