{
 "cells": [
  {
   "cell_type": "code",
   "execution_count": 1,
   "id": "1bb85c10",
   "metadata": {
    "_cell_guid": "b1076dfc-b9ad-4769-8c92-a6c4dae69d19",
    "_uuid": "8f2839f25d086af736a60e9eeb907d3b93b6e0e5",
    "execution": {
     "iopub.execute_input": "2021-11-22T15:28:18.801523Z",
     "iopub.status.busy": "2021-11-22T15:28:18.800793Z",
     "iopub.status.idle": "2021-11-22T15:28:19.909489Z",
     "shell.execute_reply": "2021-11-22T15:28:19.910212Z",
     "shell.execute_reply.started": "2021-11-22T14:22:26.512234Z"
    },
    "papermill": {
     "duration": 1.142178,
     "end_time": "2021-11-22T15:28:19.910592",
     "exception": false,
     "start_time": "2021-11-22T15:28:18.768414",
     "status": "completed"
    },
    "tags": []
   },
   "outputs": [
    {
     "name": "stdout",
     "output_type": "stream",
     "text": [
      "/kaggle/input/traintestcsr-codeproject/train.npz\n",
      "/kaggle/input/traintestcsr-codeproject/test.npz\n",
      "/kaggle/input/traintestpkls-codeproject/train_pickle.pkl\n",
      "/kaggle/input/traintestpkls-codeproject/soln_pickle.pkl\n",
      "/kaggle/input/traintestpkls-codeproject/test_pickle.pkl\n",
      "/kaggle/input/data-for-codeproject-contest/our_contest_train_2.csv\n",
      "/kaggle/input/data-for-codeproject-contest/our_contest_sample_solution_2.csv\n",
      "/kaggle/input/data-for-codeproject-contest/our_contest_test.csv\n"
     ]
    }
   ],
   "source": [
    "import numpy as np\n",
    "import pandas as pd\n",
    "\n",
    "from scipy import sparse\n",
    "from sklearn.model_selection import train_test_split\n",
    "\n",
    "from sklearn.linear_model import LogisticRegression\n",
    "from sklearn.naive_bayes import MultinomialNB\n",
    "from sklearn.naive_bayes import ComplementNB\n",
    "from sklearn.naive_bayes import CategoricalNB\n",
    "# from sklearn.pipeline import make_pipeline\n",
    "from sklearn.preprocessing import StandardScaler\n",
    "from sklearn.svm import SVC\n",
    "\n",
    "from sklearn.metrics import f1_score\n",
    "\n",
    "import os\n",
    "for dirname, _, filenames in os.walk('/kaggle/input'):\n",
    "    for filename in filenames:\n",
    "        print(os.path.join(dirname, filename))"
   ]
  },
  {
   "cell_type": "code",
   "execution_count": 2,
   "id": "0ad138b9",
   "metadata": {
    "execution": {
     "iopub.execute_input": "2021-11-22T15:28:19.943484Z",
     "iopub.status.busy": "2021-11-22T15:28:19.942790Z",
     "iopub.status.idle": "2021-11-22T15:29:22.411206Z",
     "shell.execute_reply": "2021-11-22T15:29:22.410212Z",
     "shell.execute_reply.started": "2021-11-22T14:22:27.561839Z"
    },
    "papermill": {
     "duration": 62.485167,
     "end_time": "2021-11-22T15:29:22.411598",
     "exception": false,
     "start_time": "2021-11-22T15:28:19.926431",
     "status": "completed"
    },
    "tags": []
   },
   "outputs": [],
   "source": [
    "TRAIN_NPZ = \"/kaggle/input/traintestcsr-codeproject/train.npz\"\n",
    "complete_csr = sparse.load_npz(TRAIN_NPZ)\n",
    "\n",
    "TRAIN_CSV = \"/kaggle/input/data-for-codeproject-contest/our_contest_train_2.csv\"\n",
    "targets = pd.read_csv(TRAIN_CSV)['Target']"
   ]
  },
  {
   "cell_type": "code",
   "execution_count": 3,
   "id": "b9e2f3fb",
   "metadata": {
    "execution": {
     "iopub.execute_input": "2021-11-22T15:29:22.450669Z",
     "iopub.status.busy": "2021-11-22T15:29:22.449624Z",
     "iopub.status.idle": "2021-11-22T15:29:30.669028Z",
     "shell.execute_reply": "2021-11-22T15:29:30.668445Z",
     "shell.execute_reply.started": "2021-11-22T14:23:27.055745Z"
    },
    "papermill": {
     "duration": 8.241346,
     "end_time": "2021-11-22T15:29:30.669199",
     "exception": false,
     "start_time": "2021-11-22T15:29:22.427853",
     "status": "completed"
    },
    "tags": []
   },
   "outputs": [],
   "source": [
    "x_train, x_test, y_train, y_test = train_test_split(complete_csr, targets, test_size = 0.33, random_state = 42, stratify = targets)"
   ]
  },
  {
   "cell_type": "code",
   "execution_count": 4,
   "id": "d90520d3",
   "metadata": {
    "execution": {
     "iopub.execute_input": "2021-11-22T15:29:30.702275Z",
     "iopub.status.busy": "2021-11-22T15:29:30.701465Z",
     "iopub.status.idle": "2021-11-22T15:29:30.704439Z",
     "shell.execute_reply": "2021-11-22T15:29:30.703876Z",
     "shell.execute_reply.started": "2021-11-22T14:23:35.246993Z"
    },
    "papermill": {
     "duration": 0.021845,
     "end_time": "2021-11-22T15:29:30.704598",
     "exception": false,
     "start_time": "2021-11-22T15:29:30.682753",
     "status": "completed"
    },
    "tags": []
   },
   "outputs": [],
   "source": [
    "def f1_macro_score(x_test, y_test, model):\n",
    "    y_pred = model.predict(x_test)\n",
    "    return f1_score(y_test, y_pred, labels=None, pos_label=1, average='macro', sample_weight=None, zero_division='warn')"
   ]
  },
  {
   "cell_type": "code",
   "execution_count": 5,
   "id": "4883c161",
   "metadata": {
    "execution": {
     "iopub.execute_input": "2021-11-22T15:29:30.739642Z",
     "iopub.status.busy": "2021-11-22T15:29:30.738879Z",
     "iopub.status.idle": "2021-11-22T15:29:30.740561Z",
     "shell.execute_reply": "2021-11-22T15:29:30.741011Z",
     "shell.execute_reply.started": "2021-11-22T14:23:35.254607Z"
    },
    "papermill": {
     "duration": 0.022997,
     "end_time": "2021-11-22T15:29:30.741194",
     "exception": false,
     "start_time": "2021-11-22T15:29:30.718197",
     "status": "completed"
    },
    "tags": []
   },
   "outputs": [],
   "source": [
    "def partial_fit_steps(model, x_train, y_train, n_iter):\n",
    "    scores = []\n",
    "    max_score = 0\n",
    "    best_model = model\n",
    "    for i in range(x_train.shape[0] // BATCH_SIZE):\n",
    "        for j in range(n_iter):\n",
    "            model.partial_fit(x_train[i * BATCH_SIZE:(i + 1) * BATCH_SIZE], y_train[i * BATCH_SIZE:(i + 1) * BATCH_SIZE], classes = np.unique(y_train))\n",
    "        score = f1_macro_score(x_test, y_test, model)\n",
    "        if score > max_score:\n",
    "            best_model = model\n",
    "            max_score = score\n",
    "        scores.append(score)\n",
    "        print(score)\n",
    "    return scores, best_model"
   ]
  },
  {
   "cell_type": "code",
   "execution_count": 6,
   "id": "8d6a11f8",
   "metadata": {
    "execution": {
     "iopub.execute_input": "2021-11-22T15:29:30.771590Z",
     "iopub.status.busy": "2021-11-22T15:29:30.770585Z",
     "iopub.status.idle": "2021-11-22T16:03:08.630698Z",
     "shell.execute_reply": "2021-11-22T16:03:08.631280Z",
     "shell.execute_reply.started": "2021-11-22T14:23:35.267055Z"
    },
    "papermill": {
     "duration": 2017.877041,
     "end_time": "2021-11-22T16:03:08.631477",
     "exception": false,
     "start_time": "2021-11-22T15:29:30.754436",
     "status": "completed"
    },
    "tags": []
   },
   "outputs": [
    {
     "name": "stdout",
     "output_type": "stream",
     "text": [
      "0.19788686390360508\n",
      "0.23146710747660187\n",
      "0.22604996510863726\n",
      "0.2568111160552469\n",
      "0.2061677611250023\n",
      "0.23078309398347815\n",
      "0.23780151256158635\n",
      "0.2200652237442824\n",
      "0.24558913393034\n",
      "0.22040140822442794\n",
      "0.1986620352940521\n",
      "0.24807427066019008\n",
      "0.21878369148293442\n",
      "0.2313736394435269\n",
      "0.22833042493427577\n",
      "0.2503783140826362\n"
     ]
    }
   ],
   "source": [
    "BATCH_SIZE = 70000\n",
    "\n",
    "from sklearn.linear_model import SGDClassifier\n",
    "\n",
    "sgd = SGDClassifier(loss = 'log')\n",
    "sgd_acc, sgd_best = partial_fit_steps(sgd, x_train, y_train, 200)"
   ]
  },
  {
   "cell_type": "code",
   "execution_count": 7,
   "id": "634078a9",
   "metadata": {
    "execution": {
     "iopub.execute_input": "2021-11-22T16:03:08.673661Z",
     "iopub.status.busy": "2021-11-22T16:03:08.672823Z",
     "iopub.status.idle": "2021-11-22T16:03:26.751962Z",
     "shell.execute_reply": "2021-11-22T16:03:26.753001Z",
     "shell.execute_reply.started": "2021-11-22T15:02:40.823519Z"
    },
    "papermill": {
     "duration": 18.103984,
     "end_time": "2021-11-22T16:03:26.753321",
     "exception": false,
     "start_time": "2021-11-22T16:03:08.649337",
     "status": "completed"
    },
    "tags": []
   },
   "outputs": [],
   "source": [
    "TEST_NPZ = \"/kaggle/input/traintestcsr-codeproject/test.npz\"\n",
    "test_csr = sparse.load_npz(TEST_NPZ)\n",
    "\n",
    "soln_df = pd.read_pickle('/kaggle/input/traintestpkls-codeproject/soln_pickle.pkl')\n",
    "soln_df['Target'] = sgd_best.predict(test_csr)\n",
    "soln_df.to_csv('solution_lr.csv', index = False)"
   ]
  },
  {
   "cell_type": "code",
   "execution_count": null,
   "id": "9fb683fc",
   "metadata": {
    "papermill": {
     "duration": 0.043414,
     "end_time": "2021-11-22T16:03:26.817996",
     "exception": false,
     "start_time": "2021-11-22T16:03:26.774582",
     "status": "completed"
    },
    "tags": []
   },
   "outputs": [],
   "source": []
  },
  {
   "cell_type": "code",
   "execution_count": 8,
   "id": "38b158fc",
   "metadata": {
    "execution": {
     "iopub.execute_input": "2021-11-22T16:03:26.909024Z",
     "iopub.status.busy": "2021-11-22T16:03:26.908003Z",
     "iopub.status.idle": "2021-11-22T16:10:17.521338Z",
     "shell.execute_reply": "2021-11-22T16:10:17.521864Z",
     "shell.execute_reply.started": "2021-11-22T15:02:59.706023Z"
    },
    "papermill": {
     "duration": 410.639804,
     "end_time": "2021-11-22T16:10:17.522065",
     "exception": false,
     "start_time": "2021-11-22T16:03:26.882261",
     "status": "completed"
    },
    "tags": []
   },
   "outputs": [
    {
     "name": "stdout",
     "output_type": "stream",
     "text": [
      "0.20711940585158634\n",
      "0.21193015483988548\n",
      "0.2046574372895305\n",
      "0.21215078727414877\n",
      "0.21131991698292624\n",
      "0.20899110983801802\n",
      "0.21463292712509058\n",
      "0.22237307271019552\n",
      "0.24247068409366457\n",
      "0.2170444424618013\n",
      "0.22187739408341273\n",
      "0.25420789445825165\n",
      "0.23359404921355026\n",
      "0.21081554101343847\n",
      "0.22826019833930475\n",
      "0.2148072789033233\n"
     ]
    }
   ],
   "source": [
    "from sklearn.linear_model import PassiveAggressiveClassifier\n",
    "\n",
    "pac = PassiveAggressiveClassifier()\n",
    "acc_scores = partial_fit_steps(pac, x_train, y_train, 50)"
   ]
  },
  {
   "cell_type": "code",
   "execution_count": 9,
   "id": "63d603f7",
   "metadata": {
    "execution": {
     "iopub.execute_input": "2021-11-22T16:10:17.573286Z",
     "iopub.status.busy": "2021-11-22T16:10:17.572553Z",
     "iopub.status.idle": "2021-11-22T16:10:17.574998Z",
     "shell.execute_reply": "2021-11-22T16:10:17.575489Z",
     "shell.execute_reply.started": "2021-11-22T15:10:25.184834Z"
    },
    "papermill": {
     "duration": 0.030431,
     "end_time": "2021-11-22T16:10:17.575671",
     "exception": false,
     "start_time": "2021-11-22T16:10:17.545240",
     "status": "completed"
    },
    "tags": []
   },
   "outputs": [],
   "source": [
    "# nb = MultinomialNB()\n",
    "# x_train.data += abs(x_train.min())\n",
    "# nb.fit(abs(x_train), y_train)\n",
    "# x_test.data += abs(x_test.min())\n",
    "# f1_macro_score(abs(x_test), y_test, nb)"
   ]
  },
  {
   "cell_type": "code",
   "execution_count": 10,
   "id": "7da6fd2e",
   "metadata": {
    "execution": {
     "iopub.execute_input": "2021-11-22T16:10:17.626794Z",
     "iopub.status.busy": "2021-11-22T16:10:17.626165Z",
     "iopub.status.idle": "2021-11-22T16:10:17.629705Z",
     "shell.execute_reply": "2021-11-22T16:10:17.629115Z",
     "shell.execute_reply.started": "2021-11-22T15:10:25.193333Z"
    },
    "papermill": {
     "duration": 0.031083,
     "end_time": "2021-11-22T16:10:17.629840",
     "exception": false,
     "start_time": "2021-11-22T16:10:17.598757",
     "status": "completed"
    },
    "tags": []
   },
   "outputs": [],
   "source": [
    "# cnb = ComplementNB()\n",
    "# x_train.data += abs(x_train.min())\n",
    "# cnb.fit(abs(x_train), y_train)\n",
    "# x_test.data += abs(x_test.min())\n",
    "# f1_macro_score(abs(x_test), y_test, cnb)"
   ]
  },
  {
   "cell_type": "code",
   "execution_count": 11,
   "id": "4769e28b",
   "metadata": {
    "execution": {
     "iopub.execute_input": "2021-11-22T16:10:17.681812Z",
     "iopub.status.busy": "2021-11-22T16:10:17.680489Z",
     "iopub.status.idle": "2021-11-22T16:10:17.685415Z",
     "shell.execute_reply": "2021-11-22T16:10:17.684798Z",
     "shell.execute_reply.started": "2021-11-22T15:10:25.205029Z"
    },
    "papermill": {
     "duration": 0.032596,
     "end_time": "2021-11-22T16:10:17.685583",
     "exception": false,
     "start_time": "2021-11-22T16:10:17.652987",
     "status": "completed"
    },
    "tags": []
   },
   "outputs": [],
   "source": [
    "# lr1 = LogisticRegression(multi_class = 'ovr', solver = 'liblinear', class_weight = 'balanced', max_iter = 150)\n",
    "# lr1.fit(x_train, y_train)\n",
    "# f1_macro_score(x_test, y_test, lr1)"
   ]
  },
  {
   "cell_type": "code",
   "execution_count": 12,
   "id": "fc716dbe",
   "metadata": {
    "execution": {
     "iopub.execute_input": "2021-11-22T16:10:17.737130Z",
     "iopub.status.busy": "2021-11-22T16:10:17.736157Z",
     "iopub.status.idle": "2021-11-22T16:10:17.739610Z",
     "shell.execute_reply": "2021-11-22T16:10:17.740231Z",
     "shell.execute_reply.started": "2021-11-22T15:10:25.219077Z"
    },
    "papermill": {
     "duration": 0.030141,
     "end_time": "2021-11-22T16:10:17.740399",
     "exception": false,
     "start_time": "2021-11-22T16:10:17.710258",
     "status": "completed"
    },
    "tags": []
   },
   "outputs": [],
   "source": [
    "# lr2 = LogisticRegression(multi_class = 'ovr', solver = 'liblinear', class_weight = 'balanced', max_iter = 200)\n",
    "# lr2.fit(x_train, y_train)\n",
    "# f1_macro_score(x_test, y_test, lr2)"
   ]
  },
  {
   "cell_type": "code",
   "execution_count": 13,
   "id": "0e68ed73",
   "metadata": {
    "execution": {
     "iopub.execute_input": "2021-11-22T16:10:17.791407Z",
     "iopub.status.busy": "2021-11-22T16:10:17.790422Z",
     "iopub.status.idle": "2021-11-22T16:10:17.795278Z",
     "shell.execute_reply": "2021-11-22T16:10:17.795973Z",
     "shell.execute_reply.started": "2021-11-22T15:10:25.232830Z"
    },
    "papermill": {
     "duration": 0.032894,
     "end_time": "2021-11-22T16:10:17.796193",
     "exception": false,
     "start_time": "2021-11-22T16:10:17.763299",
     "status": "completed"
    },
    "tags": []
   },
   "outputs": [],
   "source": [
    "# TEST_NPZ = \"/kaggle/input/traintestcsr-codeproject/test.npz\"\n",
    "# test_csr = sparse.load_npz(TEST_NPZ)\n",
    "\n",
    "# soln_df = pd.read_pickle('/kaggle/input/traintestpkls-codeproject/soln_pickle.pkl')\n",
    "# soln_df['Target'] = lr1.predict(test_csr)\n",
    "# soln_df.to_csv('solution_lr.csv', index = False)"
   ]
  },
  {
   "cell_type": "code",
   "execution_count": 14,
   "id": "396a3140",
   "metadata": {
    "execution": {
     "iopub.execute_input": "2021-11-22T16:10:17.860500Z",
     "iopub.status.busy": "2021-11-22T16:10:17.859484Z",
     "iopub.status.idle": "2021-11-22T16:10:17.863664Z",
     "shell.execute_reply": "2021-11-22T16:10:17.864464Z",
     "shell.execute_reply.started": "2021-11-22T15:10:25.249522Z"
    },
    "papermill": {
     "duration": 0.039859,
     "end_time": "2021-11-22T16:10:17.864759",
     "exception": false,
     "start_time": "2021-11-22T16:10:17.824900",
     "status": "completed"
    },
    "tags": []
   },
   "outputs": [],
   "source": [
    "# soln_df.head()"
   ]
  }
 ],
 "metadata": {
  "kernelspec": {
   "display_name": "Python 3",
   "language": "python",
   "name": "python3"
  },
  "language_info": {
   "codemirror_mode": {
    "name": "ipython",
    "version": 3
   },
   "file_extension": ".py",
   "mimetype": "text/x-python",
   "name": "python",
   "nbconvert_exporter": "python",
   "pygments_lexer": "ipython3",
   "version": "3.7.10"
  },
  "papermill": {
   "default_parameters": {},
   "duration": 2529.402778,
   "end_time": "2021-11-22T16:10:18.813118",
   "environment_variables": {},
   "exception": null,
   "input_path": "__notebook__.ipynb",
   "output_path": "__notebook__.ipynb",
   "parameters": {},
   "start_time": "2021-11-22T15:28:09.410340",
   "version": "2.3.3"
  }
 },
 "nbformat": 4,
 "nbformat_minor": 5
}
