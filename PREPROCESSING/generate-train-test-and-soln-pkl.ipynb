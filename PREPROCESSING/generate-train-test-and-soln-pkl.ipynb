{
 "cells": [
  {
   "cell_type": "code",
   "execution_count": 1,
   "id": "e84ee29f",
   "metadata": {
    "_cell_guid": "b1076dfc-b9ad-4769-8c92-a6c4dae69d19",
    "_uuid": "8f2839f25d086af736a60e9eeb907d3b93b6e0e5",
    "execution": {
     "iopub.execute_input": "2021-11-12T09:29:39.768994Z",
     "iopub.status.busy": "2021-11-12T09:29:39.768080Z",
     "iopub.status.idle": "2021-11-12T09:29:39.773835Z",
     "shell.execute_reply": "2021-11-12T09:29:39.774323Z",
     "shell.execute_reply.started": "2021-11-12T08:55:13.568529Z"
    },
    "papermill": {
     "duration": 0.021334,
     "end_time": "2021-11-12T09:29:39.774600",
     "exception": false,
     "start_time": "2021-11-12T09:29:39.753266",
     "status": "completed"
    },
    "tags": []
   },
   "outputs": [],
   "source": [
    "import numpy as np\n",
    "import pandas as pd\n",
    "\n",
    "TRAIN_FILE = \"/kaggle/input/data-for-codeproject-contest/our_contest_train_2.csv\"\n",
    "TEST_FILE = \"/kaggle/input/data-for-codeproject-contest/our_contest_test.csv\""
   ]
  },
  {
   "cell_type": "code",
   "execution_count": 2,
   "id": "db3eec70",
   "metadata": {
    "execution": {
     "iopub.execute_input": "2021-11-12T09:29:39.789024Z",
     "iopub.status.busy": "2021-11-12T09:29:39.788360Z",
     "iopub.status.idle": "2021-11-12T09:29:39.802206Z",
     "shell.execute_reply": "2021-11-12T09:29:39.801507Z",
     "shell.execute_reply.started": "2021-11-12T08:55:13.598636Z"
    },
    "papermill": {
     "duration": 0.021851,
     "end_time": "2021-11-12T09:29:39.802345",
     "exception": false,
     "start_time": "2021-11-12T09:29:39.780494",
     "status": "completed"
    },
    "tags": []
   },
   "outputs": [],
   "source": [
    "from datetime import datetime\n",
    "\n",
    "def clean_format(date):\n",
    "    year, month, day = date.split(\"-\")\n",
    "    date = month + \"/\" + day + \"/\" + year\n",
    "    date += \" 00:00:00\"\n",
    "    return date  \n",
    "\n",
    "def convert2datetime(df, col):\n",
    "    dateTimes = []\n",
    "    for timeStamp in df[col]:\n",
    "        try:\n",
    "            dateTimes.append(datetime.strptime(timeStamp, '%m/%d/%Y %H:%M:%S'))\n",
    "        except:\n",
    "            dateTimes.append(datetime.strptime(clean_format(timeStamp), '%m/%d/%Y %H:%M:%S'))\n",
    "    return dateTimes\n",
    "\n",
    "def calc_account_age(df, post_time, account_create_time):\n",
    "    account_creation_times = convert2datetime(df, account_create_time)\n",
    "    post_creation_times = convert2datetime(df, post_time)\n",
    "    \n",
    "    df['accountAge'] = [(post_create - acc_create).days for acc_create, post_create in list(zip(account_creation_times, post_creation_times))]\n",
    "    \n",
    "    return df.drop([account_create_time, post_time], axis = 1)\n",
    "\n",
    "def make_col_positive(df, col):\n",
    "    df[col] = df[col] + abs(df[col].min())\n",
    "    return df\n",
    "\n",
    "def combine_cols(df, col1, col2, col3, col4, col5, col6, new_col):\n",
    "    df[new_col] = [val1 + \" \" + val2 + \" \" + val3 + \" \" + val4 + \" \" + val5 + \" \" + val6 for val1, val2, val3, val4, val5, val6 in list(zip(list(df[col1]), list(df[col2]), list(df[col3]), list(df[col4]), list(df[col5]), list(df[col6])))]\n",
    "    return df.drop([col1, col2, col3, col4, col5, col6], axis = 1)\n",
    "\n",
    "def replace_nulls(df, replace_by):\n",
    "    return df.fillna(replace_by)"
   ]
  },
  {
   "cell_type": "code",
   "execution_count": 3,
   "id": "aa7f068e",
   "metadata": {
    "execution": {
     "iopub.execute_input": "2021-11-12T09:29:39.819756Z",
     "iopub.status.busy": "2021-11-12T09:29:39.819005Z",
     "iopub.status.idle": "2021-11-12T09:29:39.821891Z",
     "shell.execute_reply": "2021-11-12T09:29:39.821337Z",
     "shell.execute_reply.started": "2021-11-12T08:55:13.615952Z"
    },
    "papermill": {
     "duration": 0.014133,
     "end_time": "2021-11-12T09:29:39.822045",
     "exception": false,
     "start_time": "2021-11-12T09:29:39.807912",
     "status": "completed"
    },
    "tags": []
   },
   "outputs": [],
   "source": [
    "def preprocess_data(df):\n",
    "    df = calc_account_age(df, 'PostDateTime', 'WhenAccountMade')\n",
    "    df = make_col_positive(df, 'Karma')\n",
    "    df = replace_nulls(df, \"~\")\n",
    "    df = combine_cols(df, 'Heading', 'MainText', 'PrimarySubject', 'SecondarySubject', 'TertiarySubject', 'OtherSubject', 'PostText')\n",
    "    return df"
   ]
  },
  {
   "cell_type": "code",
   "execution_count": 4,
   "id": "b2f5de14",
   "metadata": {
    "execution": {
     "iopub.execute_input": "2021-11-12T09:29:39.838465Z",
     "iopub.status.busy": "2021-11-12T09:29:39.837629Z",
     "iopub.status.idle": "2021-11-12T09:31:37.296084Z",
     "shell.execute_reply": "2021-11-12T09:31:37.296612Z",
     "shell.execute_reply.started": "2021-11-12T08:56:26.098497Z"
    },
    "papermill": {
     "duration": 117.469333,
     "end_time": "2021-11-12T09:31:37.296812",
     "exception": false,
     "start_time": "2021-11-12T09:29:39.827479",
     "status": "completed"
    },
    "tags": []
   },
   "outputs": [],
   "source": [
    "train_df = pd.read_csv(TRAIN_FILE)\n",
    "\n",
    "train_df = train_df.drop_duplicates()\n",
    "\n",
    "train_df = preprocess_data(train_df)\n",
    "train_df = train_df.drop('Qid', axis = 1)\n",
    "\n",
    "train_df.to_pickle('train_pickle.pkl')"
   ]
  },
  {
   "cell_type": "code",
   "execution_count": 5,
   "id": "0e3405da",
   "metadata": {
    "execution": {
     "iopub.execute_input": "2021-11-12T09:31:37.386520Z",
     "iopub.status.busy": "2021-11-12T09:31:37.385771Z",
     "iopub.status.idle": "2021-11-12T09:33:30.982770Z",
     "shell.execute_reply": "2021-11-12T09:33:30.981688Z",
     "shell.execute_reply.started": "2021-11-12T08:59:22.284328Z"
    },
    "papermill": {
     "duration": 113.609226,
     "end_time": "2021-11-12T09:33:30.982959",
     "exception": false,
     "start_time": "2021-11-12T09:31:37.373733",
     "status": "completed"
    },
    "tags": []
   },
   "outputs": [],
   "source": [
    "test_df = pd.read_csv(TEST_FILE)\n",
    "\n",
    "test_df = preprocess_data(test_df)\n",
    "qids = test_df['Qid']\n",
    "test_df = test_df.drop('Qid', axis = 1).to_pickle('test_pickle.pkl')\n",
    "\n",
    "soln_df = pd.DataFrame()\n",
    "soln_df['Qid'] = qids\n",
    "soln_df.to_pickle('soln_pickle.pkl')"
   ]
  }
 ],
 "metadata": {
  "kernelspec": {
   "display_name": "Python 3",
   "language": "python",
   "name": "python3"
  },
  "language_info": {
   "codemirror_mode": {
    "name": "ipython",
    "version": 3
   },
   "file_extension": ".py",
   "mimetype": "text/x-python",
   "name": "python",
   "nbconvert_exporter": "python",
   "pygments_lexer": "ipython3",
   "version": "3.7.10"
  },
  "papermill": {
   "default_parameters": {},
   "duration": 241.497533,
   "end_time": "2021-11-12T09:33:32.002227",
   "environment_variables": {},
   "exception": null,
   "input_path": "__notebook__.ipynb",
   "output_path": "__notebook__.ipynb",
   "parameters": {},
   "start_time": "2021-11-12T09:29:30.504694",
   "version": "2.3.3"
  }
 },
 "nbformat": 4,
 "nbformat_minor": 5
}
