{
 "cells": [
  {
   "cell_type": "code",
   "execution_count": 1,
   "id": "9cdbb91c",
   "metadata": {
    "_cell_guid": "b1076dfc-b9ad-4769-8c92-a6c4dae69d19",
    "_uuid": "8f2839f25d086af736a60e9eeb907d3b93b6e0e5",
    "execution": {
     "iopub.execute_input": "2021-11-14T06:03:56.102385Z",
     "iopub.status.busy": "2021-11-14T06:03:56.100860Z",
     "iopub.status.idle": "2021-11-14T06:03:57.182915Z",
     "shell.execute_reply": "2021-11-14T06:03:57.183473Z",
     "shell.execute_reply.started": "2021-11-14T04:27:22.101794Z"
    },
    "papermill": {
     "duration": 1.095424,
     "end_time": "2021-11-14T06:03:57.183798",
     "exception": false,
     "start_time": "2021-11-14T06:03:56.088374",
     "status": "completed"
    },
    "tags": []
   },
   "outputs": [
    {
     "name": "stdout",
     "output_type": "stream",
     "text": [
      "/kaggle/input/traintestpkls-codeproject/train_pickle.pkl\n",
      "/kaggle/input/traintestpkls-codeproject/soln_pickle.pkl\n",
      "/kaggle/input/traintestpkls-codeproject/test_pickle.pkl\n"
     ]
    }
   ],
   "source": [
    "import numpy as np\n",
    "import pandas as pd\n",
    "import re\n",
    "\n",
    "from gensim.parsing.preprocessing import remove_stopwords\n",
    "from gensim.parsing.preprocessing import stem_text\n",
    "\n",
    "from sklearn.feature_extraction.text import CountVectorizer\n",
    "\n",
    "from scipy import sparse\n",
    "from scipy.sparse import csr_matrix\n",
    "\n",
    "import os\n",
    "for dirname, _, filenames in os.walk('/kaggle/input'):\n",
    "    for filename in filenames:\n",
    "        print(os.path.join(dirname, filename))"
   ]
  },
  {
   "cell_type": "code",
   "execution_count": 2,
   "id": "694d98b5",
   "metadata": {
    "execution": {
     "iopub.execute_input": "2021-11-14T06:03:57.203929Z",
     "iopub.status.busy": "2021-11-14T06:03:57.202931Z",
     "iopub.status.idle": "2021-11-14T06:03:57.211353Z",
     "shell.execute_reply": "2021-11-14T06:03:57.211855Z",
     "shell.execute_reply.started": "2021-11-14T04:27:23.432741Z"
    },
    "papermill": {
     "duration": 0.022736,
     "end_time": "2021-11-14T06:03:57.212040",
     "exception": false,
     "start_time": "2021-11-14T06:03:57.189304",
     "status": "completed"
    },
    "tags": []
   },
   "outputs": [],
   "source": [
    "def to_lowercase(text):\n",
    "    \"\"\"\n",
    "    Args: text PostText column of \n",
    "    Returns:\n",
    "    \n",
    "    Description:\n",
    "    \"\"\"\n",
    "    return text.str.lower()\n",
    "\n",
    "def remove_escape_seqs(s):\n",
    "    ansi_escape = re.compile(r'(\\x9B|\\x1B\\[)[0-?]*[ -\\/]*[@-~]')\n",
    "    return ansi_escape.sub('', re.sub(\"[^a-zA-Z' ]+\", ' ', s))\n",
    "\n",
    "def remove_puncs_and_nums(s):\n",
    "    repaired_words = [''.join(ch for ch in word if ch.isalnum() and not ch.isdigit()) for word in s.split()]\n",
    "    return ' '.join(repaired_words)\n",
    "\n",
    "def remove_spec_chars(text):\n",
    "    for i in range(len(text)):\n",
    "        text[i] = remove_puncs_and_nums(remove_escape_seqs(text[i]))\n",
    "    return text\n",
    "\n",
    "def remove_two_letter_words(text):\n",
    "    for i in range(len(text)):\n",
    "        text[i] = ' '.join(word for word in text[i].split() if len(word) > 2)\n",
    "    return text\n",
    "\n",
    "def remove_stopwords_corpus(text):\n",
    "    return text.apply(lambda x: remove_stopwords(x)[2:-1])\n",
    "\n",
    "def generate_corpus(text):\n",
    "    text = to_lowercase(text)\n",
    "    text = remove_spec_chars(text)\n",
    "    text = remove_two_letter_words(text)\n",
    "    return [stem_text(row)[2:-1] for row in text]\n",
    "\n",
    "def generate_train_dtm(text):\n",
    "    cv = CountVectorizer()\n",
    "    return cv.fit_transform(text), cv\n",
    "\n",
    "def generate_test_dtm(text, cv):\n",
    "    return cv.transform(text)\n",
    "\n",
    "def merge_text_and_cols(text_csr, otr_cols_csr):\n",
    "    return sparse.hstack((otr_cols_csr, text_csr))"
   ]
  },
  {
   "cell_type": "code",
   "execution_count": 3,
   "id": "857912e4",
   "metadata": {
    "execution": {
     "iopub.execute_input": "2021-11-14T06:03:57.225883Z",
     "iopub.status.busy": "2021-11-14T06:03:57.224921Z",
     "iopub.status.idle": "2021-11-14T06:51:11.376809Z",
     "shell.execute_reply": "2021-11-14T06:51:11.376153Z",
     "shell.execute_reply.started": "2021-11-14T04:27:23.563779Z"
    },
    "papermill": {
     "duration": 2834.159821,
     "end_time": "2021-11-14T06:51:11.376983",
     "exception": false,
     "start_time": "2021-11-14T06:03:57.217162",
     "status": "completed"
    },
    "tags": []
   },
   "outputs": [],
   "source": [
    "TRAIN_FILE = \"/kaggle/input/traintestpkls-codeproject/train_pickle.pkl\"\n",
    "\n",
    "train_df = pd.read_pickle(TRAIN_FILE)\n",
    "train_text = train_df['PostText']\n",
    "train_text_csr, cv = generate_train_dtm(generate_corpus(train_text))\n",
    "\n",
    "train_otr_cols = train_df[['Karma', 'NumAnswers', 'accountAge']]\n",
    "train_otr_cols_csr = csr_matrix(train_otr_cols.values)\n",
    "\n",
    "train_csr = merge_text_and_cols(train_text_csr, train_otr_cols_csr)\n",
    "\n",
    "sparse.save_npz(\"train.npz\", train_csr)"
   ]
  },
  {
   "cell_type": "code",
   "execution_count": 4,
   "id": "c11a68e1",
   "metadata": {
    "execution": {
     "iopub.execute_input": "2021-11-14T06:51:11.394497Z",
     "iopub.status.busy": "2021-11-14T06:51:11.393838Z",
     "iopub.status.idle": "2021-11-14T07:37:30.916712Z",
     "shell.execute_reply": "2021-11-14T07:37:30.916040Z",
     "shell.execute_reply.started": "2021-11-14T05:14:59.957940Z"
    },
    "papermill": {
     "duration": 2779.534352,
     "end_time": "2021-11-14T07:37:30.916886",
     "exception": false,
     "start_time": "2021-11-14T06:51:11.382534",
     "status": "completed"
    },
    "tags": []
   },
   "outputs": [],
   "source": [
    "TEST_FILE = \"/kaggle/input/traintestpkls-codeproject/test_pickle.pkl\"\n",
    "test_df = pd.read_pickle(TEST_FILE)\n",
    "test_text = test_df['PostText']\n",
    "test_text_csr = generate_test_dtm(generate_corpus(test_text), cv)\n",
    "\n",
    "test_otr_cols = test_df[['Karma', 'NumAnswers', 'accountAge']]\n",
    "test_otr_cols_csr = csr_matrix(test_otr_cols.values)\n",
    "\n",
    "test_csr = merge_text_and_cols(test_text_csr, test_otr_cols_csr)\n",
    "\n",
    "sparse.save_npz(\"test.npz\", test_csr)"
   ]
  }
 ],
 "metadata": {
  "kernelspec": {
   "display_name": "Python 3",
   "language": "python",
   "name": "python3"
  },
  "language_info": {
   "codemirror_mode": {
    "name": "ipython",
    "version": 3
   },
   "file_extension": ".py",
   "mimetype": "text/x-python",
   "name": "python",
   "nbconvert_exporter": "python",
   "pygments_lexer": "ipython3",
   "version": "3.7.10"
  },
  "papermill": {
   "default_parameters": {},
   "duration": 5627.140857,
   "end_time": "2021-11-14T07:37:34.268232",
   "environment_variables": {},
   "exception": null,
   "input_path": "__notebook__.ipynb",
   "output_path": "__notebook__.ipynb",
   "parameters": {},
   "start_time": "2021-11-14T06:03:47.127375",
   "version": "2.3.3"
  }
 },
 "nbformat": 4,
 "nbformat_minor": 5
}
